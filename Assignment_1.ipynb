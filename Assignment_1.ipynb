{
 "cells": [
  {
   "cell_type": "markdown",
   "id": "9e9c0751",
   "metadata": {},
   "source": [
    "# iNeuron Assignment 1\n",
    "-_by Ranjini Chaudhary_"
   ]
  },
  {
   "cell_type": "markdown",
   "id": "7fcf09b7",
   "metadata": {},
   "source": [
    "1. In the below elements which of them are values or an expression? eg:- values can be integer or string and expressions will be mathematical operators.\n",
    "- * \n",
    "- 'hello'\n",
    "- -87.8\n",
    "- - \n",
    "- / \n",
    "-   +\n",
    "- 6 \n",
    "\n",
    "Ans. 1: * , - , / and + are expressions.<br>\n",
    "     Whereas 'hello', -87.8 and 6 are values.\n"
   ]
  },
  {
   "cell_type": "markdown",
   "id": "7561a4f9",
   "metadata": {},
   "source": [
    "2. What is the difference between string and variable? <br>\n",
    "Ans. 2: A string is a group of characters and it is considered to be a value whereas a variable is an entity where values in form of numbers or strings can be assigned.In terms of memory management variable is the name given to the space allocated in memory."
   ]
  },
  {
   "cell_type": "markdown",
   "id": "eae2ffc7",
   "metadata": {},
   "source": [
    "3. Describe three different data types. <br>\n",
    "Ans. 3: Here are three different data types used in python:<br>\n",
    "1) int - includes positive as well as negative numbers including 0. <br>\n",
    "2) strings - strings are group of characters which are immutable. <br>\n",
    "3) list - lists are collections of values of different datatypes. They are iterable as well as mutable."
   ]
  },
  {
   "cell_type": "markdown",
   "id": "2a32554c",
   "metadata": {},
   "source": [
    "4. What is an expression made up of? What do all expressions do? <br>\n",
    "Ans. 4: An expression is made up of variables, operators and constants."
   ]
  },
  {
   "cell_type": "markdown",
   "id": "c036c6b9",
   "metadata": {},
   "source": [
    "5. This assignment statements, like spam = 10. What is the difference between an expression and a statement? <br>\n",
    "Ans 5: Expression is an equation which will give a result whereas assigment statement is allocating values to a named memory space. Like in this case spam is the name of the memory space and 10 is the value assigned to that memory space."
   ]
  },
  {
   "cell_type": "markdown",
   "id": "c13f7350",
   "metadata": {},
   "source": [
    "6. After running the following code, what does the variable bacon contain?\n",
    "bacon = 22\n",
    "bacon + 1"
   ]
  },
  {
   "cell_type": "markdown",
   "id": "8d06092c",
   "metadata": {},
   "source": [
    "Solution 6:"
   ]
  },
  {
   "cell_type": "code",
   "execution_count": 2,
   "id": "d2563e33",
   "metadata": {},
   "outputs": [],
   "source": [
    "bacon = 22"
   ]
  },
  {
   "cell_type": "code",
   "execution_count": 3,
   "id": "d01c0e98",
   "metadata": {},
   "outputs": [
    {
     "data": {
      "text/plain": [
       "23"
      ]
     },
     "execution_count": 3,
     "metadata": {},
     "output_type": "execute_result"
    }
   ],
   "source": [
    "bacon + 1"
   ]
  },
  {
   "cell_type": "code",
   "execution_count": 4,
   "id": "0a087e79",
   "metadata": {},
   "outputs": [
    {
     "data": {
      "text/plain": [
       "22"
      ]
     },
     "execution_count": 4,
     "metadata": {},
     "output_type": "execute_result"
    }
   ],
   "source": [
    "bacon"
   ]
  },
  {
   "cell_type": "markdown",
   "id": "afaa14a2",
   "metadata": {},
   "source": [
    "Ans. 6: Therefore the variable bacon contains 22 only because the new value i.e. 23 is not re-assigned to the same variable i.e. bacon=bacon+1."
   ]
  },
  {
   "cell_type": "markdown",
   "id": "ea5c4a28",
   "metadata": {},
   "source": [
    "7. What should the values of the following two terms be?\n",
    "'spam' + 'spamspam'\n",
    "'spam' * 3"
   ]
  },
  {
   "cell_type": "markdown",
   "id": "287802dd",
   "metadata": {},
   "source": [
    "Solution 7:"
   ]
  },
  {
   "cell_type": "code",
   "execution_count": 6,
   "id": "c9f20845",
   "metadata": {},
   "outputs": [
    {
     "data": {
      "text/plain": [
       "'spamspamspam'"
      ]
     },
     "execution_count": 6,
     "metadata": {},
     "output_type": "execute_result"
    }
   ],
   "source": [
    "'spam' + 'spamspam'"
   ]
  },
  {
   "cell_type": "code",
   "execution_count": 7,
   "id": "97a5c0f2",
   "metadata": {},
   "outputs": [
    {
     "data": {
      "text/plain": [
       "'spamspamspam'"
      ]
     },
     "execution_count": 7,
     "metadata": {},
     "output_type": "execute_result"
    }
   ],
   "source": [
    "'spam' * 3"
   ]
  },
  {
   "cell_type": "markdown",
   "id": "6c3f4e3f",
   "metadata": {},
   "source": [
    "Ans 7: Hence the answer of the above two terms is 'spamspamspam'."
   ]
  },
  {
   "cell_type": "markdown",
   "id": "961203c2",
   "metadata": {},
   "source": [
    "8. Why is eggs a valid variable name while 100 is invalid? <br>\n",
    "Ans 8:  eggs is a valid variable name while 100 is invalid because a variable name cannot be a number it can be a character or a word."
   ]
  },
  {
   "cell_type": "markdown",
   "id": "20c933cf",
   "metadata": {},
   "source": [
    "9. What three functions can be used to get the integer, floating-point number, or string version of a value? <br>\n",
    "Ans 9. : int(), float() and str() can be used to get integer, floating-point number or string version of a value respectively."
   ]
  },
  {
   "cell_type": "markdown",
   "id": "d8a437e3",
   "metadata": {},
   "source": [
    "10. Why does this expression cause an error? How can you fix it?\n",
    "'I have eaten ' + 99 + ' burritos.'"
   ]
  },
  {
   "cell_type": "markdown",
   "id": "2fe23e9e",
   "metadata": {},
   "source": [
    "Solution 10.:\n"
   ]
  },
  {
   "cell_type": "code",
   "execution_count": 8,
   "id": "5898b464",
   "metadata": {},
   "outputs": [
    {
     "ename": "TypeError",
     "evalue": "can only concatenate str (not \"int\") to str",
     "output_type": "error",
     "traceback": [
      "\u001b[0;31m---------------------------------------------------------------------------\u001b[0m",
      "\u001b[0;31mTypeError\u001b[0m                                 Traceback (most recent call last)",
      "\u001b[0;32m<ipython-input-8-d24137131a5c>\u001b[0m in \u001b[0;36m<module>\u001b[0;34m\u001b[0m\n\u001b[0;32m----> 1\u001b[0;31m \u001b[0;34m'I have eaten '\u001b[0m \u001b[0;34m+\u001b[0m \u001b[0;36m99\u001b[0m \u001b[0;34m+\u001b[0m \u001b[0;34m' burritos.'\u001b[0m\u001b[0;34m\u001b[0m\u001b[0;34m\u001b[0m\u001b[0m\n\u001b[0m",
      "\u001b[0;31mTypeError\u001b[0m: can only concatenate str (not \"int\") to str"
     ]
    }
   ],
   "source": [
    "'I have eaten ' + 99 + ' burritos.'"
   ]
  },
  {
   "cell_type": "markdown",
   "id": "5b721627",
   "metadata": {},
   "source": [
    "The above error can be resolved in the following manner:"
   ]
  },
  {
   "cell_type": "code",
   "execution_count": 9,
   "id": "446a1ddc",
   "metadata": {},
   "outputs": [
    {
     "data": {
      "text/plain": [
       "'I have eaten 99 burritos.'"
      ]
     },
     "execution_count": 9,
     "metadata": {},
     "output_type": "execute_result"
    }
   ],
   "source": [
    "'I have eaten ' + str(99) + ' burritos.'"
   ]
  },
  {
   "cell_type": "markdown",
   "id": "71ed1d2a",
   "metadata": {},
   "source": [
    "Ans. 10: Hence the above error can be resolved by typecasting the integer number to string using the str() function."
   ]
  },
  {
   "cell_type": "code",
   "execution_count": null,
   "id": "88ad7ed9",
   "metadata": {},
   "outputs": [],
   "source": []
  }
 ],
 "metadata": {
  "kernelspec": {
   "display_name": "Python 3",
   "language": "python",
   "name": "python3"
  },
  "language_info": {
   "codemirror_mode": {
    "name": "ipython",
    "version": 3
   },
   "file_extension": ".py",
   "mimetype": "text/x-python",
   "name": "python",
   "nbconvert_exporter": "python",
   "pygments_lexer": "ipython3",
   "version": "3.8.8"
  }
 },
 "nbformat": 4,
 "nbformat_minor": 5
}
